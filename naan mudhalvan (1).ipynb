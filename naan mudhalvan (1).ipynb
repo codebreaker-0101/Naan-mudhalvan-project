{
 "cells": [
  {
   "cell_type": "code",
   "execution_count": 1,
   "id": "2be480b5-17ee-41dc-b730-84e76be63085",
   "metadata": {},
   "outputs": [
    {
     "name": "stdout",
     "output_type": "stream",
     "text": [
      "Recommendations for Alice: ['Smart Watch', 'Fitness Tracker', 'Yoga Mat', 'Protein Powder', 'Running Socks']\n",
      "Recommendations for Bob: ['Espresso Machine', 'French Press', 'Coffee Grinds', 'Blender', 'Air Fryer']\n"
     ]
    }
   ],
   "source": [
    "# Sample product catalog with categories\n",
    "products = {\n",
    "    \"Running Shoes\": \"fitness\",\n",
    "    \"Yoga Mat\": \"fitness\",\n",
    "    \"Protein Powder\": \"fitness\",\n",
    "    \"Smart Watch\": \"fitness\",\n",
    "    \"Fitness Tracker\": \"fitness\",\n",
    "    \"Coffee Maker\": \"kitchen\",\n",
    "    \"Espresso Machine\": \"kitchen\",\n",
    "    \"French Press\": \"kitchen\",\n",
    "    \"Coffee Grinds\": \"kitchen\",\n",
    "    \"Blender\": \"kitchen\",\n",
    "    \"Air Fryer\": \"kitchen\",\n",
    "    \"Running Socks\": \"fitness\",\n",
    "    \"Vacation Pack\": \"fitness\",\n",
    "    \"Gift Card\": \"general\"\n",
    "}\n",
    "\n",
    "# Sample customer data\n",
    "customers = [\n",
    "    {\n",
    "        \"name\": \"Alice\",\n",
    "        \"purchase_history\": [\"Running Shoes\"],\n",
    "        \"interests\": [\"fitness\", \"running\"],\n",
    "        \"wishlist\": [\"Smart Watch\", \"Fitness Tracker\"]\n",
    "    },\n",
    "    {\n",
    "        \"name\": \"Bob\",\n",
    "        \"purchase_history\": [\"Coffee Maker\"],\n",
    "        \"interests\": [\"coffee\", \"kitchen\"],\n",
    "        \"wishlist\": [\"Espresso Machine\"]\n",
    "    }\n",
    "]\n",
    "\n",
    "# Recommendation function\n",
    "def recommend_products(customer, products, max_recommendations=5):\n",
    "    recommendations = []\n",
    "    seen = set(customer.get(\"purchase_history\", []))\n",
    "\n",
    "    # 1. Recommend items from wishlist if available and not purchased\n",
    "    for item in customer.get(\"wishlist\", []):\n",
    "        if item in products and item not in seen:\n",
    "            recommendations.append(item)\n",
    "            seen.add(item)\n",
    "            if len(recommendations) >= max_recommendations:\n",
    "                return recommendations\n",
    "\n",
    "    # 2. Recommend items from matching interests and not already purchased or in wishlist\n",
    "    for product, category in products.items():\n",
    "        if category in customer[\"interests\"] and product not in seen and product not in customer.get(\"wishlist\", []):\n",
    "            recommendations.append(product)\n",
    "            seen.add(product)\n",
    "            if len(recommendations) >= max_recommendations:\n",
    "                return recommendations\n",
    "\n",
    "    # 3. Fill with general category products if needed\n",
    "    for product, category in products.items():\n",
    "        if category == \"general\" and product not in seen:\n",
    "            recommendations.append(product)\n",
    "            seen.add(product)\n",
    "            if len(recommendations) >= max_recommendations:\n",
    "                return recommendations\n",
    "\n",
    "    return recommendations\n",
    "\n",
    "# Example usage\n",
    "for customer in customers:\n",
    "    recs = recommend_products(customer, products)\n",
    "    print(f\"Recommendations for {customer['name']}: {recs}\")\n"
   ]
  },
  {
   "cell_type": "code",
   "execution_count": null,
   "id": "332057d4-1154-478f-9f19-c5bd5e9b8e44",
   "metadata": {},
   "outputs": [],
   "source": []
  }
 ],
 "metadata": {
  "kernelspec": {
   "display_name": "Python [conda env:base] *",
   "language": "python",
   "name": "conda-base-py"
  },
  "language_info": {
   "codemirror_mode": {
    "name": "ipython",
    "version": 3
   },
   "file_extension": ".py",
   "mimetype": "text/x-python",
   "name": "python",
   "nbconvert_exporter": "python",
   "pygments_lexer": "ipython3",
   "version": "3.12.7"
  }
 },
 "nbformat": 4,
 "nbformat_minor": 5
}
